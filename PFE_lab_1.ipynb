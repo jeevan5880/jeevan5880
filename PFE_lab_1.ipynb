{
  "nbformat": 4,
  "nbformat_minor": 0,
  "metadata": {
    "colab": {
      "name": "PFE lab 1.ipynb",
      "provenance": [],
      "authorship_tag": "ABX9TyM53nPPVs7Un4bdn90QRzlh",
      "include_colab_link": true
    },
    "kernelspec": {
      "name": "python3",
      "display_name": "Python 3"
    },
    "language_info": {
      "name": "python"
    }
  },
  "cells": [
    {
      "cell_type": "markdown",
      "metadata": {
        "id": "view-in-github",
        "colab_type": "text"
      },
      "source": [
        "<a href=\"https://colab.research.google.com/github/jeevan5880/jeevan5880/blob/main/PFE_lab_1.ipynb\" target=\"_parent\"><img src=\"https://colab.research.google.com/assets/colab-badge.svg\" alt=\"Open In Colab\"/></a>"
      ]
    },
    {
      "cell_type": "markdown",
      "metadata": {
        "id": "YnwKeyVL317k"
      },
      "source": [
        "Formation Evaluation Lab -1 \n",
        "\n",
        "Archie Inverse Equation\n"
      ]
    },
    {
      "cell_type": "code",
      "metadata": {
        "id": "uOSuFpP5j-kS"
      },
      "source": [
        "# by observing the log plots we can see the aquifier zone is present  between the TVD range from 2610-2625 m"
      ],
      "execution_count": null,
      "outputs": []
    },
    {
      "cell_type": "code",
      "metadata": {
        "id": "AR56mb3znIXM"
      },
      "source": [
        "# By observing the neutron and density seperation. as the both are coinciding the zone reperesents that it is an aquifier and a limestone formation "
      ],
      "execution_count": null,
      "outputs": []
    },
    {
      "cell_type": "code",
      "metadata": {
        "id": "XsDArzoFnfDe"
      },
      "source": [
        "# m and a are constant values for limestone formation \n"
      ],
      "execution_count": null,
      "outputs": []
    },
    {
      "cell_type": "code",
      "metadata": {
        "id": "ynCUxDbbtbNX"
      },
      "source": [
        "# cementation exponent\n",
        "m = 2.0\n",
        "\n",
        "# tourtousity factor\n",
        "a = 1.0\n",
        "\n",
        "#Rt - restivity of the formation water observed from the log is \n",
        "Rt = 20"
      ],
      "execution_count": null,
      "outputs": []
    },
    {
      "cell_type": "code",
      "metadata": {
        "id": "92KDtcHCwIuW",
        "colab": {
          "base_uri": "https://localhost:8080/",
          "height": 186
        },
        "outputId": "dfa58dc9-81eb-4380-dbca-f05e9e250117"
      },
      "source": [
        "def archie_inv1(por=[],Rwa=[],a=1.0,m=2.0,Rt=20):\n",
        "\n",
        "  q =int(input(\"how many porosity values you want to enter ?  \\n # ex - let say i want to print 5 values  \"))\n",
        "\n",
        "  for i in range(q):\n",
        "\n",
        "    z = float(input(\"enter the values of porosity  in % \"))\n",
        "\n",
        "    y = float((z**m)*Rt / (a))\n",
        "\n",
        "    por.append(z)\n",
        "\n",
        "  \n",
        "    Rwa.append(y)\n",
        "\n",
        "  print(f\"the porosity values you entered are {por}\")\n",
        "\n",
        "  print (f\"the Apparent resistivity values are {Rwa}\")\n",
        "\n",
        "  return (f\"the formation water resistivity is the minimum value of the Apparent resistivity Rw = {min(Rwa)} ohm-m \")\n",
        "  \n",
        "archie_inv1()\n"
      ],
      "execution_count": 17,
      "outputs": [
        {
          "output_type": "stream",
          "text": [
            "how many porosity values you want to enter ?  \n",
            " # ex - let say i want to print 5 values  5\n",
            "enter the values of porosity  in % 15.1\n",
            "enter the values of porosity  in % 15\n",
            "enter the values of porosity  in % 15.2\n",
            "enter the values of porosity  in % 14.8\n",
            "enter the values of porosity  in % 15.3\n",
            "the porosity values you entered are [15.1, 15.0, 15.2, 14.8, 15.3]\n",
            "the Apparent resistivity values are [4560.2, 4500.0, 4620.8, 4380.8, 4681.800000000001]\n"
          ],
          "name": "stdout"
        },
        {
          "output_type": "execute_result",
          "data": {
            "application/vnd.google.colaboratory.intrinsic+json": {
              "type": "string"
            },
            "text/plain": [
              "'the formation water resistivity is the minimum value of the Apparent resistivity Rw = 4380.8 ohm-m '"
            ]
          },
          "metadata": {},
          "execution_count": 17
        }
      ]
    }
  ]
}